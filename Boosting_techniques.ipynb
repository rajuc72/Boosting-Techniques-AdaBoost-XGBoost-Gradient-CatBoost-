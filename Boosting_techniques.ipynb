{
 "cells": [
  {
   "cell_type": "markdown",
   "id": "05fc87de-d67c-412c-8918-c0e451a93894",
   "metadata": {},
   "source": [
    "<h1 style=\"font-size:32px;\">Boosting Theory</h1>\n"
   ]
  },
  {
   "cell_type": "raw",
   "id": "b6753db5-de70-4041-9bf2-7c20248f3fc7",
   "metadata": {},
   "source": [
    "\n",
    "1.What is Boosting in Machine Learning?\n",
    "ANS: Boosting is an machine learning ensemble technique where multiple \"weak\" learners are trained sequentially, with each new model focusing on correcting errors made by the previous ones. This iterative process aims to create a strong learner with higher predictive accuracy by combining the strengths of the individual weak learners.\n",
    "\n",
    "2.How does Boosting differ from Bagging?\n",
    "ANS: Bagging (Bootstrap Aggregating) trains models in parallel on different subsets of the data, averaging their predictions to reduce variance, while Boosting trains models sequentially, with each model focusing on the errors of the previous ones to reduce bias and improve accuracy.\n",
    "\n",
    "3.What is the key idea behind AdaBoost?\n",
    "ANS:The key idea behind AdaBoost (Adaptive Boosting) is to iteratively train a series of weak learners on the same training data, but with increasing weights assigned to misclassified data points in each iteration. This allows subsequent weak learners to focus on the more challenging examples, ultimately combining them into a strong, accurate classifier.\n",
    "\n",
    "4.Explain the working of AdaBoost with an example?\n",
    "ANS:AdaBoost works by assigning weights to data points, increasing the weights of misclassified instances in each iteration. Example: Imagine a student who consistently fails exams, even with good study hours. Initially, this student might not be given much attention, but as AdaBoost iteratively trains, it will notice that the student is consistently misclassified. The algorithm will increase the weight of this data point, causing subsequent models to pay more attention to it, eventually leading to a better understanding of why the student is failing\n",
    "\n",
    "5.What is Gradient Boosting, and how is it different from AdaBoost?\n",
    "ANS: Gradient Boosting learns from the residuals or errors made by previous models and uses a fixed learning rate for all trees.While on the other hand AdaBoost focuses on misclassified samples by adjusting sample weights in each iteration.\n",
    "\n",
    "6.What is the loss function in Gradient Boosting?\n",
    "ANS: In gradient boosting, the loss function quantifies the difference between model predictions and actual values, guiding the algorithm to minimize errors iteratively.\n",
    "\n",
    "7.How does XGBoost improve over traditional Gradient Boosting?\n",
    "ANS: XGBoost improves upon traditional gradient boosting primarily through regularization techniques, parallel processing, XGBoost has built-in routines to handle missing values and efficient memory usage.\n",
    "\n",
    "8.What is the difference between XGBoost and CatBoost?\n",
    "ANS:XGBoost requires pre-processing of categorical data (e.g., one-hot encoding), while CatBoost automatically handles them. CatBoost also employs symmetric (balanced) trees, which can lead to faster computation.\n",
    "\n",
    "9.What are some real-world applications of Boosting techniques?\n",
    "ANS: We can use Boosting techniques in rapplications include medical diagnosis, recommendation systems, time series analysis, financial rissk analysis ans etc.\n",
    "\n",
    "10.How does regularization help in XGBoost?\n",
    "ANS: Regularization in XGBoost helps prevent overfitting and improves the model's ability to generalize to new, unseen data by adding penalties to the loss function, discouraging the model from assigning excessive importance to specific features or making overly complex predictions.\n",
    "\n",
    "11.What are some hyperparameters to tune in Gradient Boosting models?\n",
    "ANS: Key hyperparameters to tune include learning rate, number of estimators (trees), tree depth, and regularization parameters\n",
    "\n",
    "12.What is the concept of Feature Importance in Boosting?\n",
    "ANS: Feature importance is nothing but measure of how much each input feature contributes to a model's prediction.\n",
    "\n",
    "13.Why is CatBoost efficient for categorical data?\n",
    "ANS: CatBoost uses ordered boosting technique which helps to handle categorical encoding automatically and also it is uselful to mitigating overfitting."
   ]
  },
  {
   "cell_type": "markdown",
   "id": "87e4fa17-9d1e-4e7e-ad79-fce305e768f5",
   "metadata": {},
   "source": [
    "<h2 style=\"font-size:28px;\">Practical</h2>\n"
   ]
  },
  {
   "cell_type": "markdown",
   "id": "4d6a5f2f-3da3-426b-90ea-0bc2e192995c",
   "metadata": {},
   "source": [
    "<h3>14.Train an AdaBoost Classifier on a sample dataset and print model accuracy"
   ]
  },
  {
   "cell_type": "code",
   "execution_count": 15,
   "id": "2891df8a-4fd0-4430-bd58-78487f363e57",
   "metadata": {},
   "outputs": [],
   "source": [
    " import numpy as np\n",
    " import pandas as pd\n",
    " import matplotlib.pyplot as plt\n",
    " import seaborn as sns\n",
    " from sklearn.model_selection import train_test_split\n",
    " from sklearn.ensemble import AdaBoostClassifier,AdaBoostRegressor\n",
    " from sklearn.metrics import accuracy_score, classification_report, confusion_matrix\n",
    " from sklearn.metrics import mean_squared_error, r2_score, mean_absolute_error\n",
    "\n",
    "import warnings\n",
    "warnings.filterwarnings('ignore')\n"
   ]
  },
  {
   "cell_type": "code",
   "execution_count": 2,
   "id": "e39eb556-b904-491e-83fc-d0698d6adf97",
   "metadata": {},
   "outputs": [],
   "source": [
    "data=pd.read_csv(r'C:\\Users\\rajuc\\Downloads\\water_potability.csv')"
   ]
  },
  {
   "cell_type": "code",
   "execution_count": 5,
   "id": "fdd07686-2e1d-4a14-8243-6000b912ae66",
   "metadata": {},
   "outputs": [
    {
     "data": {
      "text/html": [
       "<div>\n",
       "<style scoped>\n",
       "    .dataframe tbody tr th:only-of-type {\n",
       "        vertical-align: middle;\n",
       "    }\n",
       "\n",
       "    .dataframe tbody tr th {\n",
       "        vertical-align: top;\n",
       "    }\n",
       "\n",
       "    .dataframe thead th {\n",
       "        text-align: right;\n",
       "    }\n",
       "</style>\n",
       "<table border=\"1\" class=\"dataframe\">\n",
       "  <thead>\n",
       "    <tr style=\"text-align: right;\">\n",
       "      <th></th>\n",
       "      <th>ph</th>\n",
       "      <th>Hardness</th>\n",
       "      <th>Solids</th>\n",
       "      <th>Chloramines</th>\n",
       "      <th>Sulfate</th>\n",
       "      <th>Conductivity</th>\n",
       "      <th>Organic_carbon</th>\n",
       "      <th>Trihalomethanes</th>\n",
       "      <th>Turbidity</th>\n",
       "      <th>Potability</th>\n",
       "    </tr>\n",
       "  </thead>\n",
       "  <tbody>\n",
       "    <tr>\n",
       "      <th>0</th>\n",
       "      <td>NaN</td>\n",
       "      <td>204.890456</td>\n",
       "      <td>20791.31898</td>\n",
       "      <td>7.300212</td>\n",
       "      <td>368.516441</td>\n",
       "      <td>564.308654</td>\n",
       "      <td>10.379783</td>\n",
       "      <td>86.990970</td>\n",
       "      <td>2.963135</td>\n",
       "      <td>0</td>\n",
       "    </tr>\n",
       "    <tr>\n",
       "      <th>1</th>\n",
       "      <td>3.716080</td>\n",
       "      <td>129.422921</td>\n",
       "      <td>18630.05786</td>\n",
       "      <td>6.635246</td>\n",
       "      <td>NaN</td>\n",
       "      <td>592.885359</td>\n",
       "      <td>15.180013</td>\n",
       "      <td>56.329076</td>\n",
       "      <td>4.500656</td>\n",
       "      <td>0</td>\n",
       "    </tr>\n",
       "    <tr>\n",
       "      <th>2</th>\n",
       "      <td>8.099124</td>\n",
       "      <td>224.236259</td>\n",
       "      <td>19909.54173</td>\n",
       "      <td>9.275884</td>\n",
       "      <td>NaN</td>\n",
       "      <td>418.606213</td>\n",
       "      <td>16.868637</td>\n",
       "      <td>66.420093</td>\n",
       "      <td>3.055934</td>\n",
       "      <td>0</td>\n",
       "    </tr>\n",
       "    <tr>\n",
       "      <th>3</th>\n",
       "      <td>8.316766</td>\n",
       "      <td>214.373394</td>\n",
       "      <td>22018.41744</td>\n",
       "      <td>8.059332</td>\n",
       "      <td>356.886136</td>\n",
       "      <td>363.266516</td>\n",
       "      <td>18.436525</td>\n",
       "      <td>100.341674</td>\n",
       "      <td>4.628771</td>\n",
       "      <td>0</td>\n",
       "    </tr>\n",
       "    <tr>\n",
       "      <th>4</th>\n",
       "      <td>9.092223</td>\n",
       "      <td>181.101509</td>\n",
       "      <td>17978.98634</td>\n",
       "      <td>6.546600</td>\n",
       "      <td>310.135738</td>\n",
       "      <td>398.410813</td>\n",
       "      <td>11.558279</td>\n",
       "      <td>31.997993</td>\n",
       "      <td>4.075075</td>\n",
       "      <td>0</td>\n",
       "    </tr>\n",
       "  </tbody>\n",
       "</table>\n",
       "</div>"
      ],
      "text/plain": [
       "         ph    Hardness       Solids  Chloramines     Sulfate  Conductivity  \\\n",
       "0       NaN  204.890456  20791.31898     7.300212  368.516441    564.308654   \n",
       "1  3.716080  129.422921  18630.05786     6.635246         NaN    592.885359   \n",
       "2  8.099124  224.236259  19909.54173     9.275884         NaN    418.606213   \n",
       "3  8.316766  214.373394  22018.41744     8.059332  356.886136    363.266516   \n",
       "4  9.092223  181.101509  17978.98634     6.546600  310.135738    398.410813   \n",
       "\n",
       "   Organic_carbon  Trihalomethanes  Turbidity  Potability  \n",
       "0       10.379783        86.990970   2.963135           0  \n",
       "1       15.180013        56.329076   4.500656           0  \n",
       "2       16.868637        66.420093   3.055934           0  \n",
       "3       18.436525       100.341674   4.628771           0  \n",
       "4       11.558279        31.997993   4.075075           0  "
      ]
     },
     "execution_count": 5,
     "metadata": {},
     "output_type": "execute_result"
    }
   ],
   "source": [
    "df=pd.DataFrame(data)\n",
    "df.head()"
   ]
  },
  {
   "cell_type": "code",
   "execution_count": 7,
   "id": "210bba13-6134-4c94-a986-6378176fe6a0",
   "metadata": {},
   "outputs": [
    {
     "name": "stdout",
     "output_type": "stream",
     "text": [
      "Accuracy: 0.6086956521739131\n"
     ]
    }
   ],
   "source": [
    "from sklearn.preprocessing import StandardScaler\n",
    "from sklearn.ensemble import AdaBoostClassifier\n",
    "df.isna().sum()\n",
    "df['ph']=df['ph'].fillna(df['ph'].mean())\n",
    "df['Sulfate']=df['Sulfate'].fillna(df['Sulfate'].mean())\n",
    "df['Trihalomethanes']=df['Trihalomethanes'].fillna(df['Trihalomethanes'].mean())\n",
    "\n",
    "X=df.drop('Potability',axis=1)\n",
    "y=df['Potability']\n",
    "X_train,X_test,y_train,y_test=train_test_split(X,y,test_size=0.2,random_state=42)\n",
    "scaler=StandardScaler()\n",
    "X_train=scaler.fit_transform(X_train)\n",
    "X_test=scaler.transform(X_test)\n",
    "\n",
    "model=AdaBoostClassifier(n_estimators=100,random_state=42)\n",
    "model.fit(X_train,y_train)\n",
    "y_pred=model.predict(X_test)\n",
    "accuracy=accuracy_score(y_test,y_pred)\n",
    "print('Accuracy:',accuracy)"
   ]
  },
  {
   "cell_type": "markdown",
   "id": "8e6cbf17-a2b3-42e5-8316-ee7426aab802",
   "metadata": {},
   "source": [
    "<h3>15.Train an AdaBoost Regressor and evaluate performance using Mean Absolute Error (MAE)"
   ]
  },
  {
   "cell_type": "code",
   "execution_count": 9,
   "id": "0b8c69c7-069d-4b24-9a95-1a1c2b382eac",
   "metadata": {},
   "outputs": [
    {
     "data": {
      "text/html": [
       "<div>\n",
       "<style scoped>\n",
       "    .dataframe tbody tr th:only-of-type {\n",
       "        vertical-align: middle;\n",
       "    }\n",
       "\n",
       "    .dataframe tbody tr th {\n",
       "        vertical-align: top;\n",
       "    }\n",
       "\n",
       "    .dataframe thead th {\n",
       "        text-align: right;\n",
       "    }\n",
       "</style>\n",
       "<table border=\"1\" class=\"dataframe\">\n",
       "  <thead>\n",
       "    <tr style=\"text-align: right;\">\n",
       "      <th></th>\n",
       "      <th>Hours_Studied</th>\n",
       "      <th>Previous_Scores</th>\n",
       "      <th>Extracurricular_Activities</th>\n",
       "      <th>Sleep_Hours</th>\n",
       "      <th>Sample_Papers_Practiced</th>\n",
       "      <th>Performance</th>\n",
       "    </tr>\n",
       "  </thead>\n",
       "  <tbody>\n",
       "    <tr>\n",
       "      <th>0</th>\n",
       "      <td>7</td>\n",
       "      <td>99</td>\n",
       "      <td>Yes</td>\n",
       "      <td>9</td>\n",
       "      <td>1</td>\n",
       "      <td>91</td>\n",
       "    </tr>\n",
       "    <tr>\n",
       "      <th>1</th>\n",
       "      <td>4</td>\n",
       "      <td>82</td>\n",
       "      <td>No</td>\n",
       "      <td>4</td>\n",
       "      <td>2</td>\n",
       "      <td>65</td>\n",
       "    </tr>\n",
       "    <tr>\n",
       "      <th>2</th>\n",
       "      <td>8</td>\n",
       "      <td>51</td>\n",
       "      <td>Yes</td>\n",
       "      <td>7</td>\n",
       "      <td>2</td>\n",
       "      <td>45</td>\n",
       "    </tr>\n",
       "    <tr>\n",
       "      <th>3</th>\n",
       "      <td>5</td>\n",
       "      <td>52</td>\n",
       "      <td>Yes</td>\n",
       "      <td>5</td>\n",
       "      <td>2</td>\n",
       "      <td>36</td>\n",
       "    </tr>\n",
       "    <tr>\n",
       "      <th>4</th>\n",
       "      <td>7</td>\n",
       "      <td>75</td>\n",
       "      <td>No</td>\n",
       "      <td>8</td>\n",
       "      <td>5</td>\n",
       "      <td>66</td>\n",
       "    </tr>\n",
       "  </tbody>\n",
       "</table>\n",
       "</div>"
      ],
      "text/plain": [
       "   Hours_Studied  Previous_Scores Extracurricular_Activities  Sleep_Hours  \\\n",
       "0              7               99                        Yes            9   \n",
       "1              4               82                         No            4   \n",
       "2              8               51                        Yes            7   \n",
       "3              5               52                        Yes            5   \n",
       "4              7               75                         No            8   \n",
       "\n",
       "   Sample_Papers_Practiced  Performance  \n",
       "0                        1           91  \n",
       "1                        2           65  \n",
       "2                        2           45  \n",
       "3                        2           36  \n",
       "4                        5           66  "
      ]
     },
     "execution_count": 9,
     "metadata": {},
     "output_type": "execute_result"
    }
   ],
   "source": [
    "data=pd.read_csv(r'C:\\Users\\rajuc\\Downloads\\Student_Performance.csv')\n",
    "df=pd.DataFrame(data)\n",
    "df.head()"
   ]
  },
  {
   "cell_type": "code",
   "execution_count": 13,
   "id": "9c286d9b-118a-45a3-958b-f0b48b22a80e",
   "metadata": {},
   "outputs": [
    {
     "data": {
      "text/html": [
       "<div>\n",
       "<style scoped>\n",
       "    .dataframe tbody tr th:only-of-type {\n",
       "        vertical-align: middle;\n",
       "    }\n",
       "\n",
       "    .dataframe tbody tr th {\n",
       "        vertical-align: top;\n",
       "    }\n",
       "\n",
       "    .dataframe thead th {\n",
       "        text-align: right;\n",
       "    }\n",
       "</style>\n",
       "<table border=\"1\" class=\"dataframe\">\n",
       "  <thead>\n",
       "    <tr style=\"text-align: right;\">\n",
       "      <th></th>\n",
       "      <th>Hours_Studied</th>\n",
       "      <th>Previous_Scores</th>\n",
       "      <th>Extracurricular_Activities</th>\n",
       "      <th>Sleep_Hours</th>\n",
       "      <th>Sample_Papers_Practiced</th>\n",
       "      <th>Performance</th>\n",
       "    </tr>\n",
       "  </thead>\n",
       "  <tbody>\n",
       "    <tr>\n",
       "      <th>0</th>\n",
       "      <td>7</td>\n",
       "      <td>99</td>\n",
       "      <td>1</td>\n",
       "      <td>9</td>\n",
       "      <td>1</td>\n",
       "      <td>91</td>\n",
       "    </tr>\n",
       "    <tr>\n",
       "      <th>1</th>\n",
       "      <td>4</td>\n",
       "      <td>82</td>\n",
       "      <td>0</td>\n",
       "      <td>4</td>\n",
       "      <td>2</td>\n",
       "      <td>65</td>\n",
       "    </tr>\n",
       "    <tr>\n",
       "      <th>2</th>\n",
       "      <td>8</td>\n",
       "      <td>51</td>\n",
       "      <td>1</td>\n",
       "      <td>7</td>\n",
       "      <td>2</td>\n",
       "      <td>45</td>\n",
       "    </tr>\n",
       "    <tr>\n",
       "      <th>3</th>\n",
       "      <td>5</td>\n",
       "      <td>52</td>\n",
       "      <td>1</td>\n",
       "      <td>5</td>\n",
       "      <td>2</td>\n",
       "      <td>36</td>\n",
       "    </tr>\n",
       "    <tr>\n",
       "      <th>4</th>\n",
       "      <td>7</td>\n",
       "      <td>75</td>\n",
       "      <td>0</td>\n",
       "      <td>8</td>\n",
       "      <td>5</td>\n",
       "      <td>66</td>\n",
       "    </tr>\n",
       "  </tbody>\n",
       "</table>\n",
       "</div>"
      ],
      "text/plain": [
       "   Hours_Studied  Previous_Scores  Extracurricular_Activities  Sleep_Hours  \\\n",
       "0              7               99                           1            9   \n",
       "1              4               82                           0            4   \n",
       "2              8               51                           1            7   \n",
       "3              5               52                           1            5   \n",
       "4              7               75                           0            8   \n",
       "\n",
       "   Sample_Papers_Practiced  Performance  \n",
       "0                        1           91  \n",
       "1                        2           65  \n",
       "2                        2           45  \n",
       "3                        2           36  \n",
       "4                        5           66  "
      ]
     },
     "execution_count": 13,
     "metadata": {},
     "output_type": "execute_result"
    }
   ],
   "source": [
    "df.Extracurricular_Activities.unique()\n",
    "encod={'Yes':1,'No':0}\n",
    "df.isna().sum()\n",
    "df['Extracurricular_Activities']=df['Extracurricular_Activities'].map(encod)\n",
    "df.head()\n",
    "\n"
   ]
  },
  {
   "cell_type": "code",
   "execution_count": 15,
   "id": "fa7d25a8-cf33-4c68-94f4-9cffb943c596",
   "metadata": {},
   "outputs": [
    {
     "data": {
      "text/plain": [
       "Hours_Studied                 0\n",
       "Previous_Scores               0\n",
       "Extracurricular_Activities    0\n",
       "Sleep_Hours                   0\n",
       "Sample_Papers_Practiced       0\n",
       "Performance                   0\n",
       "dtype: int64"
      ]
     },
     "execution_count": 15,
     "metadata": {},
     "output_type": "execute_result"
    }
   ],
   "source": [
    "df.isna().sum()"
   ]
  },
  {
   "cell_type": "code",
   "execution_count": 17,
   "id": "5ce9f1d0-5412-4c7f-a009-34b01683a867",
   "metadata": {},
   "outputs": [],
   "source": [
    "df.dtypes\n",
    "X=df.drop('Performance',axis=1).values\n",
    "y=df['Performance']\n",
    "X_train,X_test,y_train,y_test=train_test_split(X,y,test_size=0.2,random_state=42)\n"
   ]
  },
  {
   "cell_type": "code",
   "execution_count": 19,
   "id": "ffea65cf-0ad1-4efc-93ec-aa9ac15dd313",
   "metadata": {},
   "outputs": [
    {
     "name": "stdout",
     "output_type": "stream",
     "text": [
      "Mean Absolute Error: 2.43501636407393\n",
      "R2 Score: 0.9763161967945002\n",
      "Mean Squared Error: 9.403146514989546\n"
     ]
    }
   ],
   "source": [
    "model=AdaBoostRegressor(n_estimators=100,random_state=42)\n",
    "model.fit(X_train,y_train)\n",
    "y_pred=model.predict(X_test)\n",
    "mae=mean_absolute_error(y_test,y_pred)\n",
    "r2=r2_score(y_test,y_pred)\n",
    "mse=mean_squared_error(y_test,y_pred)\n",
    "print('Mean Absolute Error:',mae)\n",
    "print('R2 Score:',r2)\n",
    "print('Mean Squared Error:',mse)"
   ]
  },
  {
   "cell_type": "markdown",
   "id": "ff28d7ab-c5de-400a-a1fc-22a06bd77af2",
   "metadata": {},
   "source": [
    "<h3>16.Train a Gradient Boosting Classifier on the Breast Cancer dataset and print feature importance"
   ]
  },
  {
   "cell_type": "code",
   "execution_count": 28,
   "id": "31342579-c841-41fa-a6fc-318f0882c602",
   "metadata": {},
   "outputs": [
    {
     "name": "stdout",
     "output_type": "stream",
     "text": [
      "Accuracy: 0.956140350877193\n",
      "mean radius:  1.292348076813499e-05\n",
      "mean texture:  0.027804583634348873\n",
      "mean perimeter:  0.00020118364232095282\n",
      "mean area:  0.0004254033042015456\n",
      "mean smoothness:  0.0024666044618570173\n",
      "mean compactness:  0.0029960469868226245\n",
      "mean concavity:  0.0009222332874449441\n",
      "mean concave points:  0.4505275876506107\n",
      "mean symmetry:  0.0005199404606719796\n",
      "mean fractal dimension:  0.00010669160100635732\n",
      "radius error:  0.006870207891017868\n",
      "texture error:  0.003604013810768886\n",
      "perimeter error:  0.001156802373414802\n",
      "area error:  0.008415272506866505\n",
      "smoothness error:  0.0005564528920603285\n",
      "compactness error:  0.0025106349835955057\n",
      "concavity error:  0.013067922820320132\n",
      "concave points error:  0.0020381084784025583\n",
      "symmetry error:  0.0007028625799243465\n",
      "fractal dimension error:  0.004223933303430293\n",
      "worst radius:  0.075588875185215\n",
      "worst texture:  0.03988648003422685\n",
      "worst perimeter:  0.05140821113749899\n",
      "worst area:  0.0382446945612126\n",
      "worst smoothness:  0.004810830759634738\n",
      "worst compactness:  0.00045012158464117027\n",
      "worst concavity:  0.018724975674124462\n",
      "worst concave points:  0.24010308555229953\n",
      "worst symmetry:  0.0014780084320603433\n",
      "worst fractal dimension:  0.0001753069292319898\n"
     ]
    }
   ],
   "source": [
    "from sklearn.ensemble import GradientBoostingClassifier\n",
    "from sklearn.datasets import load_breast_cancer\n",
    "data=load_breast_cancer()\n",
    "X=pd.DataFrame(data.data,columns=data.feature_names)\n",
    "y=data.target\n",
    "X_train,X_test,y_train,y_test=train_test_split(X,y,test_size=0.2,random_state=42)\n",
    "model=GradientBoostingClassifier(n_estimators=100,random_state=42)\n",
    "model.fit(X_train,y_train)\n",
    "y_pred=model.predict(X_test)\n",
    "accuracy=accuracy_score(y_test,y_pred)\n",
    "print('Accuracy:',accuracy)\n",
    "feature_importance=model.feature_importances_\n",
    "\n",
    "columns=X.columns\n",
    "for feature,importance in zip(columns,feature_importance):\n",
    "  print(f'{feature}:  {importance}')\n"
   ]
  },
  {
   "cell_type": "markdown",
   "id": "a02b1034-a302-410e-898c-9236ecfd4604",
   "metadata": {},
   "source": [
    "<h3>17.Train a Gradient Boosting Regressor and evaluate using R-Squared Score"
   ]
  },
  {
   "cell_type": "code",
   "execution_count": 57,
   "id": "85ced010-fa51-49ca-b7c0-ee903ca968d5",
   "metadata": {},
   "outputs": [
    {
     "data": {
      "text/html": [
       "<div>\n",
       "<style scoped>\n",
       "    .dataframe tbody tr th:only-of-type {\n",
       "        vertical-align: middle;\n",
       "    }\n",
       "\n",
       "    .dataframe tbody tr th {\n",
       "        vertical-align: top;\n",
       "    }\n",
       "\n",
       "    .dataframe thead th {\n",
       "        text-align: right;\n",
       "    }\n",
       "</style>\n",
       "<table border=\"1\" class=\"dataframe\">\n",
       "  <thead>\n",
       "    <tr style=\"text-align: right;\">\n",
       "      <th></th>\n",
       "      <th>TV</th>\n",
       "      <th>Radio</th>\n",
       "      <th>Social Media</th>\n",
       "      <th>Influencer</th>\n",
       "      <th>Sales</th>\n",
       "    </tr>\n",
       "  </thead>\n",
       "  <tbody>\n",
       "    <tr>\n",
       "      <th>0</th>\n",
       "      <td>16.0</td>\n",
       "      <td>6.566231</td>\n",
       "      <td>2.907983</td>\n",
       "      <td>Mega</td>\n",
       "      <td>54.732757</td>\n",
       "    </tr>\n",
       "    <tr>\n",
       "      <th>1</th>\n",
       "      <td>13.0</td>\n",
       "      <td>9.237765</td>\n",
       "      <td>2.409567</td>\n",
       "      <td>Mega</td>\n",
       "      <td>46.677897</td>\n",
       "    </tr>\n",
       "    <tr>\n",
       "      <th>2</th>\n",
       "      <td>41.0</td>\n",
       "      <td>15.886446</td>\n",
       "      <td>2.913410</td>\n",
       "      <td>Mega</td>\n",
       "      <td>150.177829</td>\n",
       "    </tr>\n",
       "    <tr>\n",
       "      <th>3</th>\n",
       "      <td>83.0</td>\n",
       "      <td>30.020028</td>\n",
       "      <td>6.922304</td>\n",
       "      <td>Mega</td>\n",
       "      <td>298.246340</td>\n",
       "    </tr>\n",
       "    <tr>\n",
       "      <th>4</th>\n",
       "      <td>15.0</td>\n",
       "      <td>8.437408</td>\n",
       "      <td>1.405998</td>\n",
       "      <td>Micro</td>\n",
       "      <td>56.594181</td>\n",
       "    </tr>\n",
       "  </tbody>\n",
       "</table>\n",
       "</div>"
      ],
      "text/plain": [
       "     TV      Radio  Social Media Influencer       Sales\n",
       "0  16.0   6.566231      2.907983       Mega   54.732757\n",
       "1  13.0   9.237765      2.409567       Mega   46.677897\n",
       "2  41.0  15.886446      2.913410       Mega  150.177829\n",
       "3  83.0  30.020028      6.922304       Mega  298.246340\n",
       "4  15.0   8.437408      1.405998      Micro   56.594181"
      ]
     },
     "execution_count": 57,
     "metadata": {},
     "output_type": "execute_result"
    }
   ],
   "source": [
    "data=pd.read_csv(r'C:\\Users\\rajuc\\Downloads\\Dummy Data HSS.csv')\n",
    "df=pd.DataFrame(data)\n",
    "df.head()"
   ]
  },
  {
   "cell_type": "code",
   "execution_count": 59,
   "id": "01a9c214-318f-40cd-92fb-b5390149ca59",
   "metadata": {},
   "outputs": [
    {
     "data": {
      "text/html": [
       "<div>\n",
       "<style scoped>\n",
       "    .dataframe tbody tr th:only-of-type {\n",
       "        vertical-align: middle;\n",
       "    }\n",
       "\n",
       "    .dataframe tbody tr th {\n",
       "        vertical-align: top;\n",
       "    }\n",
       "\n",
       "    .dataframe thead th {\n",
       "        text-align: right;\n",
       "    }\n",
       "</style>\n",
       "<table border=\"1\" class=\"dataframe\">\n",
       "  <thead>\n",
       "    <tr style=\"text-align: right;\">\n",
       "      <th></th>\n",
       "      <th>TV</th>\n",
       "      <th>Radio</th>\n",
       "      <th>Social Media</th>\n",
       "      <th>Influencer</th>\n",
       "      <th>Sales</th>\n",
       "    </tr>\n",
       "  </thead>\n",
       "  <tbody>\n",
       "    <tr>\n",
       "      <th>0</th>\n",
       "      <td>16.0</td>\n",
       "      <td>6.566231</td>\n",
       "      <td>2.907983</td>\n",
       "      <td>1</td>\n",
       "      <td>54.732757</td>\n",
       "    </tr>\n",
       "    <tr>\n",
       "      <th>1</th>\n",
       "      <td>13.0</td>\n",
       "      <td>9.237765</td>\n",
       "      <td>2.409567</td>\n",
       "      <td>1</td>\n",
       "      <td>46.677897</td>\n",
       "    </tr>\n",
       "    <tr>\n",
       "      <th>2</th>\n",
       "      <td>41.0</td>\n",
       "      <td>15.886446</td>\n",
       "      <td>2.913410</td>\n",
       "      <td>1</td>\n",
       "      <td>150.177829</td>\n",
       "    </tr>\n",
       "    <tr>\n",
       "      <th>3</th>\n",
       "      <td>83.0</td>\n",
       "      <td>30.020028</td>\n",
       "      <td>6.922304</td>\n",
       "      <td>1</td>\n",
       "      <td>298.246340</td>\n",
       "    </tr>\n",
       "    <tr>\n",
       "      <th>4</th>\n",
       "      <td>15.0</td>\n",
       "      <td>8.437408</td>\n",
       "      <td>1.405998</td>\n",
       "      <td>2</td>\n",
       "      <td>56.594181</td>\n",
       "    </tr>\n",
       "    <tr>\n",
       "      <th>...</th>\n",
       "      <td>...</td>\n",
       "      <td>...</td>\n",
       "      <td>...</td>\n",
       "      <td>...</td>\n",
       "      <td>...</td>\n",
       "    </tr>\n",
       "    <tr>\n",
       "      <th>4567</th>\n",
       "      <td>26.0</td>\n",
       "      <td>4.472360</td>\n",
       "      <td>0.717090</td>\n",
       "      <td>2</td>\n",
       "      <td>94.685866</td>\n",
       "    </tr>\n",
       "    <tr>\n",
       "      <th>4568</th>\n",
       "      <td>71.0</td>\n",
       "      <td>20.610685</td>\n",
       "      <td>6.545573</td>\n",
       "      <td>3</td>\n",
       "      <td>249.101915</td>\n",
       "    </tr>\n",
       "    <tr>\n",
       "      <th>4569</th>\n",
       "      <td>44.0</td>\n",
       "      <td>19.800072</td>\n",
       "      <td>5.096192</td>\n",
       "      <td>2</td>\n",
       "      <td>163.631457</td>\n",
       "    </tr>\n",
       "    <tr>\n",
       "      <th>4570</th>\n",
       "      <td>71.0</td>\n",
       "      <td>17.534640</td>\n",
       "      <td>1.940873</td>\n",
       "      <td>4</td>\n",
       "      <td>253.610411</td>\n",
       "    </tr>\n",
       "    <tr>\n",
       "      <th>4571</th>\n",
       "      <td>42.0</td>\n",
       "      <td>15.966688</td>\n",
       "      <td>5.046548</td>\n",
       "      <td>2</td>\n",
       "      <td>148.202414</td>\n",
       "    </tr>\n",
       "  </tbody>\n",
       "</table>\n",
       "<p>4546 rows × 5 columns</p>\n",
       "</div>"
      ],
      "text/plain": [
       "        TV      Radio  Social Media  Influencer       Sales\n",
       "0     16.0   6.566231      2.907983           1   54.732757\n",
       "1     13.0   9.237765      2.409567           1   46.677897\n",
       "2     41.0  15.886446      2.913410           1  150.177829\n",
       "3     83.0  30.020028      6.922304           1  298.246340\n",
       "4     15.0   8.437408      1.405998           2   56.594181\n",
       "...    ...        ...           ...         ...         ...\n",
       "4567  26.0   4.472360      0.717090           2   94.685866\n",
       "4568  71.0  20.610685      6.545573           3  249.101915\n",
       "4569  44.0  19.800072      5.096192           2  163.631457\n",
       "4570  71.0  17.534640      1.940873           4  253.610411\n",
       "4571  42.0  15.966688      5.046548           2  148.202414\n",
       "\n",
       "[4546 rows x 5 columns]"
      ]
     },
     "execution_count": 59,
     "metadata": {},
     "output_type": "execute_result"
    }
   ],
   "source": [
    "df.Influencer.value_counts()\n",
    "encod={'Mega':1,'Micro':2,'Nano':3,'Macro':4}\n",
    "df['Influencer']=df['Influencer'].map(encod).astype(int)\n",
    "df.isna().sum()\n",
    "df.shape\n",
    "df.isna().sum()\n",
    "df.dropna()"
   ]
  },
  {
   "cell_type": "code",
   "execution_count": 67,
   "id": "a47f9529-c903-4940-aff9-876ce06f4527",
   "metadata": {},
   "outputs": [
    {
     "data": {
      "text/plain": [
       "TV              0\n",
       "Radio           0\n",
       "Social Media    0\n",
       "Influencer      0\n",
       "Sales           0\n",
       "dtype: int64"
      ]
     },
     "execution_count": 67,
     "metadata": {},
     "output_type": "execute_result"
    }
   ],
   "source": [
    "df.isna().sum()\n",
    "df=df.dropna()\n",
    "df.isna().sum()"
   ]
  },
  {
   "cell_type": "code",
   "execution_count": 69,
   "id": "accbd6ae-edfc-44a6-b27b-ed109300995b",
   "metadata": {},
   "outputs": [],
   "source": [
    "X=df.drop('Sales',axis=1)\n",
    "y=df['Sales']\n",
    "X_train,X_test,y_train,y_test=train_test_split(X,y,test_size=0.2,random_state=42)"
   ]
  },
  {
   "cell_type": "code",
   "execution_count": 71,
   "id": "be8277df-f218-4274-a328-dc5b3d3f99a8",
   "metadata": {},
   "outputs": [
    {
     "name": "stdout",
     "output_type": "stream",
     "text": [
      "R2 Score: 0.9989628568326727\n"
     ]
    }
   ],
   "source": [
    "from sklearn.ensemble import GradientBoostingRegressor\n",
    "model=GradientBoostingRegressor(n_estimators=100,random_state=42)\n",
    "model.fit(X_train,y_train)\n",
    "y_pred=model.predict(X_test)\n",
    "r2=r2_score(y_test,y_pred)\n",
    "print('R2 Score:',r2)"
   ]
  },
  {
   "cell_type": "markdown",
   "id": "c23e8e10-4ea3-4d77-aaa2-c01b57152511",
   "metadata": {},
   "source": [
    "<h3>18.Train an XGBoost Classifier on a dataset and compare accuracy with Gradient Boosting"
   ]
  },
  {
   "cell_type": "code",
   "execution_count": 17,
   "id": "25fb51c9-33f6-4051-b444-4143ff0c070d",
   "metadata": {},
   "outputs": [
    {
     "data": {
      "text/html": [
       "<div>\n",
       "<style scoped>\n",
       "    .dataframe tbody tr th:only-of-type {\n",
       "        vertical-align: middle;\n",
       "    }\n",
       "\n",
       "    .dataframe tbody tr th {\n",
       "        vertical-align: top;\n",
       "    }\n",
       "\n",
       "    .dataframe thead th {\n",
       "        text-align: right;\n",
       "    }\n",
       "</style>\n",
       "<table border=\"1\" class=\"dataframe\">\n",
       "  <thead>\n",
       "    <tr style=\"text-align: right;\">\n",
       "      <th></th>\n",
       "      <th>ph</th>\n",
       "      <th>Hardness</th>\n",
       "      <th>Solids</th>\n",
       "      <th>Chloramines</th>\n",
       "      <th>Sulfate</th>\n",
       "      <th>Conductivity</th>\n",
       "      <th>Organic_carbon</th>\n",
       "      <th>Trihalomethanes</th>\n",
       "      <th>Turbidity</th>\n",
       "      <th>Potability</th>\n",
       "    </tr>\n",
       "  </thead>\n",
       "  <tbody>\n",
       "    <tr>\n",
       "      <th>0</th>\n",
       "      <td>NaN</td>\n",
       "      <td>204.890456</td>\n",
       "      <td>20791.31898</td>\n",
       "      <td>7.300212</td>\n",
       "      <td>368.516441</td>\n",
       "      <td>564.308654</td>\n",
       "      <td>10.379783</td>\n",
       "      <td>86.990970</td>\n",
       "      <td>2.963135</td>\n",
       "      <td>0</td>\n",
       "    </tr>\n",
       "    <tr>\n",
       "      <th>1</th>\n",
       "      <td>3.716080</td>\n",
       "      <td>129.422921</td>\n",
       "      <td>18630.05786</td>\n",
       "      <td>6.635246</td>\n",
       "      <td>NaN</td>\n",
       "      <td>592.885359</td>\n",
       "      <td>15.180013</td>\n",
       "      <td>56.329076</td>\n",
       "      <td>4.500656</td>\n",
       "      <td>0</td>\n",
       "    </tr>\n",
       "    <tr>\n",
       "      <th>2</th>\n",
       "      <td>8.099124</td>\n",
       "      <td>224.236259</td>\n",
       "      <td>19909.54173</td>\n",
       "      <td>9.275884</td>\n",
       "      <td>NaN</td>\n",
       "      <td>418.606213</td>\n",
       "      <td>16.868637</td>\n",
       "      <td>66.420093</td>\n",
       "      <td>3.055934</td>\n",
       "      <td>0</td>\n",
       "    </tr>\n",
       "    <tr>\n",
       "      <th>3</th>\n",
       "      <td>8.316766</td>\n",
       "      <td>214.373394</td>\n",
       "      <td>22018.41744</td>\n",
       "      <td>8.059332</td>\n",
       "      <td>356.886136</td>\n",
       "      <td>363.266516</td>\n",
       "      <td>18.436525</td>\n",
       "      <td>100.341674</td>\n",
       "      <td>4.628771</td>\n",
       "      <td>0</td>\n",
       "    </tr>\n",
       "    <tr>\n",
       "      <th>4</th>\n",
       "      <td>9.092223</td>\n",
       "      <td>181.101509</td>\n",
       "      <td>17978.98634</td>\n",
       "      <td>6.546600</td>\n",
       "      <td>310.135738</td>\n",
       "      <td>398.410813</td>\n",
       "      <td>11.558279</td>\n",
       "      <td>31.997993</td>\n",
       "      <td>4.075075</td>\n",
       "      <td>0</td>\n",
       "    </tr>\n",
       "  </tbody>\n",
       "</table>\n",
       "</div>"
      ],
      "text/plain": [
       "         ph    Hardness       Solids  Chloramines     Sulfate  Conductivity  \\\n",
       "0       NaN  204.890456  20791.31898     7.300212  368.516441    564.308654   \n",
       "1  3.716080  129.422921  18630.05786     6.635246         NaN    592.885359   \n",
       "2  8.099124  224.236259  19909.54173     9.275884         NaN    418.606213   \n",
       "3  8.316766  214.373394  22018.41744     8.059332  356.886136    363.266516   \n",
       "4  9.092223  181.101509  17978.98634     6.546600  310.135738    398.410813   \n",
       "\n",
       "   Organic_carbon  Trihalomethanes  Turbidity  Potability  \n",
       "0       10.379783        86.990970   2.963135           0  \n",
       "1       15.180013        56.329076   4.500656           0  \n",
       "2       16.868637        66.420093   3.055934           0  \n",
       "3       18.436525       100.341674   4.628771           0  \n",
       "4       11.558279        31.997993   4.075075           0  "
      ]
     },
     "execution_count": 17,
     "metadata": {},
     "output_type": "execute_result"
    }
   ],
   "source": [
    "data=pd.read_csv(r'C:\\Users\\rajuc\\Downloads\\water_potability.csv')\n",
    "df=pd.DataFrame(data)\n",
    "df.head()"
   ]
  },
  {
   "cell_type": "code",
   "execution_count": 19,
   "id": "160459f3-22aa-48f2-a7cd-e1c8c8ee8896",
   "metadata": {},
   "outputs": [],
   "source": [
    "#df=df.dropna()\n",
    "#df.head()\n",
    "#df.shape\n",
    "X=df.drop('Potability',axis=1)\n",
    "y=df['Potability']\n",
    "X_train,X_test,y_train,y_test=train_test_split(X,y,test_size=0.2,random_state=42)"
   ]
  },
  {
   "cell_type": "code",
   "execution_count": 21,
   "id": "c3781921-79d7-4174-9367-e8dbd0350983",
   "metadata": {},
   "outputs": [
    {
     "name": "stdout",
     "output_type": "stream",
     "text": [
      "Collecting xgboost\n",
      "  Using cached xgboost-3.0.0-py3-none-win_amd64.whl.metadata (2.1 kB)\n",
      "Requirement already satisfied: numpy in c:\\users\\rajuc\\anaconda3\\lib\\site-packages (from xgboost) (1.26.4)\n",
      "Requirement already satisfied: scipy in c:\\users\\rajuc\\anaconda3\\lib\\site-packages (from xgboost) (1.13.1)\n",
      "Using cached xgboost-3.0.0-py3-none-win_amd64.whl (150.0 MB)\n",
      "Installing collected packages: xgboost\n",
      "Successfully installed xgboost-3.0.0\n"
     ]
    }
   ],
   "source": [
    "!pip install xgboost"
   ]
  },
  {
   "cell_type": "code",
   "execution_count": 25,
   "id": "dd872835-ace8-4641-9f6d-b42e61dc01a8",
   "metadata": {},
   "outputs": [
    {
     "name": "stdout",
     "output_type": "stream",
     "text": [
      "Accuracy score using XG Boost: 0.8152173913043478\n"
     ]
    }
   ],
   "source": [
    "from xgboost import XGBClassifier\n",
    "model=XGBClassifier(n_estimators=100,random_state=42)\n",
    "model.fit(X_train,y_train)\n",
    "y_pred=model.predict(X_test)\n",
    "accuracy=accuracy_score(y_test,y_pred)\n",
    "print('Accuracy score using XG Boost:',accuracy)"
   ]
  },
  {
   "cell_type": "markdown",
   "id": "0fa01a01-b369-4620-abb2-1b01c18f8770",
   "metadata": {},
   "source": [
    "<h3>19.Train a CatBoost Classifier and evaluate using F1-Score"
   ]
  },
  {
   "cell_type": "code",
   "execution_count": 9,
   "id": "8b2c4f9a-7a06-4284-8dc5-26e249ecdc37",
   "metadata": {},
   "outputs": [],
   "source": [
    "from catboost import CatBoostClassifier"
   ]
  },
  {
   "cell_type": "code",
   "execution_count": 11,
   "id": "30acb0f8-e75a-4f08-884d-dcfd941de679",
   "metadata": {},
   "outputs": [],
   "source": [
    "from sklearn.datasets import make_classification"
   ]
  },
  {
   "cell_type": "code",
   "execution_count": 39,
   "id": "81d49d25-e5fe-4618-b4c5-bca2072c5080",
   "metadata": {},
   "outputs": [
    {
     "name": "stdout",
     "output_type": "stream",
     "text": [
      "Accuracy: 0.885\n"
     ]
    }
   ],
   "source": [
    "X,y=X,y=make_classification(n_samples=1000,n_features=10,random_state=42)\n",
    "X_train,X_test,y_train,y_test=train_test_split(X,y,test_size=0.2,random_state=42)\n",
    "model=CatBoostClassifier(n_estimators=100,random_state=42,verbose=0)\n",
    "model.fit(X_train,y_train)\n",
    "y_pred=model.predict(X_test)\n",
    "accuracy=accuracy_score(y_test,y_pred)\n",
    "print('Accuracy:',accuracy)\n",
    "\n"
   ]
  },
  {
   "cell_type": "code",
   "execution_count": 41,
   "id": "8aa3c2d8-f7fb-4f45-97da-019233820061",
   "metadata": {},
   "outputs": [
    {
     "name": "stdout",
     "output_type": "stream",
     "text": [
      "F1_score: 0.8930232558139535\n"
     ]
    }
   ],
   "source": [
    "f1_scor=f1_score(y_test,y_pred)\n",
    "print('F1_score:',f1_scor)"
   ]
  },
  {
   "cell_type": "markdown",
   "id": "d2660995-076c-4034-b747-0cf02c77f282",
   "metadata": {},
   "source": [
    "<h3>20.Train an XGBoost Regressor and evaluate using Mean Squared Error (MSE)"
   ]
  },
  {
   "cell_type": "code",
   "execution_count": 33,
   "id": "5b02b60c-4a29-44f2-9088-2470a6c52207",
   "metadata": {},
   "outputs": [
    {
     "name": "stdout",
     "output_type": "stream",
     "text": [
      "0.16687147596781812\n"
     ]
    }
   ],
   "source": [
    "from sklearn.datasets import make_regression\n",
    "from xgboost import XGBRegressor\n",
    "X,y=make_regression(n_samples=1000,n_features=10,random_state=42)\n",
    "model=XGBRegressor(n_estimators=100,random_state=42,verbose=0)\n",
    "model.fit(X_train,y_train)\n",
    "y_pred=model.predict(X_test)\n",
    "mse=mean_squared_error(y_test,y_pred)\n",
    "print(mse)"
   ]
  },
  {
   "cell_type": "markdown",
   "id": "b477b2e5-027c-42ae-8721-6c12994df278",
   "metadata": {},
   "source": [
    "<h3>21.Train an AdaBoost Classifier and visualize feature importance"
   ]
  },
  {
   "cell_type": "code",
   "execution_count": 60,
   "id": "a7cc1433-70ed-4e24-a906-774dca5e771b",
   "metadata": {},
   "outputs": [
    {
     "name": "stdout",
     "output_type": "stream",
     "text": [
      "Index(['feature_1', 'feature_2', 'feature_3', 'feature_4', 'feature_5',\n",
      "       'feature_6', 'feature_7', 'feature_8', 'feature_9', 'feature_10'],\n",
      "      dtype='object')\n",
      "Accuracy: 0.85\n",
      "Feature Importance: [0.15 0.05 0.06 0.05 0.1  0.06 0.14 0.05 0.21 0.13]\n"
     ]
    },
    {
     "data": {
      "image/png": "[encoded data removed]",
      "text/plain": [
       "<Figure size 640x480 with 1 Axes>"
      ]
     },
     "metadata": {},
     "output_type": "display_data"
    }
   ],
   "source": [
    "from sklearn.ensemble import AdaBoostClassifier\n",
    "from sklearn.datasets import make_classification\n",
    "X,y=make_classification(n_samples=1000,n_features=10,random_state=42)\n",
    "df=pd.DataFrame(X,columns=[f'feature_{i}' for i in range(1,11)])\n",
    "col_names=df.columns\n",
    "print(col_names)\n",
    "df['target']=y\n",
    "\n",
    "X_train,X_test,y_train,y_test=train_test_split(X,y,test_size=0.2,random_state=42)\n",
    "model=AdaBoostClassifier(n_estimators=100,random_state=42)\n",
    "model.fit(X_train,y_train)\n",
    "y_pred=model.predict(X_test)\n",
    "accuracy=accuracy_score(y_test,y_pred)\n",
    "print('Accuracy:',accuracy)\n",
    "feature_importance=model.feature_importances_\n",
    "print('Feature Importance:',feature_importance)\n",
    "plt.bar(range(len(feature_importance)),feature_importance)\n",
    "plt.xticks(ticks=range(len(col_names)),labels=col_names,rotation=45)\n",
    "plt.xlabel('Features')\n",
    "plt.ylabel('Importance')\n",
    "plt.title('Feature Importance')\n",
    "plt.show()"
   ]
  },
  {
   "cell_type": "markdown",
   "id": "443fdaf7-9fd8-4512-adf9-fd801de2ae4b",
   "metadata": {},
   "source": [
    "<h3>22.Train a Gradient Boosting Regressor and plot learning curves"
   ]
  },
  {
   "cell_type": "code",
   "execution_count": 63,
   "id": "9e47d4a7-b2c7-46f5-9f23-1f50ab817559",
   "metadata": {},
   "outputs": [
    {
     "data": {
      "image/png": "[encoded data removed]",
      "text/plain": [
       "<Figure size 640x480 with 1 Axes>"
      ]
     },
     "metadata": {},
     "output_type": "display_data"
    }
   ],
   "source": [
    "from sklearn.datasets import fetch_california_housing\n",
    "from sklearn.ensemble import GradientBoostingRegressor\n",
    "from sklearn.model_selection import learning_curve\n",
    "\n",
    "data=fetch_california_housing()\n",
    "df=pd.DataFrame(data.data,columns=data.feature_names)\n",
    "df['target']=data.target\n",
    "X=df.drop('target',axis=1)\n",
    "y=df['target']\n",
    "x_train,x_test,y_train,y_test=train_test_split(X,y,test_size=0.2,random_state=42)\n",
    "\n",
    "model=GradientBoostingRegressor(n_estimators=100,random_state=42)\n",
    "model.fit(x_train,y_train)\n",
    "\n",
    "train_sizes,train_scores,test_scores=learning_curve(model,X,y,cv=5,scoring='neg_mean_squared_error',train_sizes=np.linspace(0.1,1.0,5))\n",
    "\n",
    "train_scores_mean=np.mean(train_scores,axis=1)\n",
    "test_scores_mean=np.mean(test_scores,axis=1)\n",
    "plt.plot(train_sizes,train_scores_mean,label='Training Score')\n",
    "plt.plot(train_sizes,test_scores_mean,label='Testing Score')\n",
    "plt.xlabel('Training Examples')\n",
    "plt.ylabel('MSE')\n",
    "plt.title('Learning Curves')\n",
    "plt.legend()\n",
    "plt.show()"
   ]
  },
  {
   "cell_type": "markdown",
   "id": "2cbc4a4c-c1d4-4a39-a410-f2717865a2af",
   "metadata": {},
   "source": [
    "<h3>23.Train an XGBoost Classifier and visualize feature importance"
   ]
  },
  {
   "cell_type": "code",
   "execution_count": 80,
   "id": "f8e256ed-0083-4e2c-a871-02b80526958f",
   "metadata": {},
   "outputs": [
    {
     "name": "stdout",
     "output_type": "stream",
     "text": [
      "Accuracy: 0.9444444444444444\n",
      "Feature Importance: [0.01359395 0.00934834 0.01310165 0.00479092 0.03111773 0.01719837\n",
      " 0.11859604 0.         0.00088738 0.1727315  0.01077046 0.46921188\n",
      " 0.13865179]\n"
     ]
    },
    {
     "data": {
      "image/png": "[encoded data removed]",
      "text/plain": [
       "<Figure size 1200x600 with 1 Axes>"
      ]
     },
     "metadata": {},
     "output_type": "display_data"
    }
   ],
   "source": [
    "from sklearn.datasets import load_wine\n",
    "data=load_wine()\n",
    "df=pd.DataFrame(data.data,columns=data.feature_names)\n",
    "col_names=df.columns\n",
    "df['target']=data.target\n",
    "X=df.drop('target',axis=1)\n",
    "y=data.target\n",
    "X_train,X_test,y_train,y_test=train_test_split(X,y,test_size=0.2,random_state=42)\n",
    "model=XGBClassifier(n_estimators=100,random_state=42)\n",
    "model.fit(X_train,y_train)\n",
    "y_pred=model.predict(X_test)\n",
    "accuracy=accuracy_score(y_test,y_pred)\n",
    "print('Accuracy:',accuracy)\n",
    "feature_importance=model.feature_importances_\n",
    "print('Feature Importance:',feature_importance)\n",
    "plt.figure(figsize=(12,6))\n",
    "plt.bar(range(len(feature_importance)),feature_importance)\n",
    "plt.xticks(ticks=range(len(col_names)),labels=col_names,rotation=45)\n",
    "plt.xlabel('Features')\n",
    "plt.ylabel('Importance')\n",
    "plt.title('Feature Importance')\n",
    "plt.show()\n"
   ]
  },
  {
   "cell_type": "markdown",
   "id": "b78045af-12b2-4c54-8075-89c08601be78",
   "metadata": {},
   "source": [
    "<h3>24.Train a CatBoost Classifier and plot the confusion matrix"
   ]
  },
  {
   "cell_type": "code",
   "execution_count": 84,
   "id": "59ab2724-1ade-49fc-8b04-99fbc3ce296c",
   "metadata": {},
   "outputs": [
    {
     "name": "stdout",
     "output_type": "stream",
     "text": [
      "Accuracy: 0.8260869565217391\n"
     ]
    },
    {
     "data": {
      "image/png": "[encoded data removed]",
      "text/plain": [
       "<Figure size 640x480 with 2 Axes>"
      ]
     },
     "metadata": {},
     "output_type": "display_data"
    }
   ],
   "source": [
    "from catboost import CatBoostClassifier\n",
    "df=pd.read_csv(r'C:\\Users\\rajuc\\Downloads\\water_potability.csv')\n",
    "df.head()\n",
    "X=df.drop('Potability',axis=1)\n",
    "y=df['Potability']\n",
    "X_train,X_test,y_train,y_test=train_test_split(X,y,test_size=0.2,random_state=42)\n",
    "model=CatBoostClassifier(n_estimators=100,random_state=42,verbose=0)\n",
    "model.fit(X_train,y_train)\n",
    "y_pred=model.predict(X_test)\n",
    "accuracy=accuracy_score(y_test,y_pred)\n",
    "print('Accuracy:',accuracy)\n",
    "cm=confusion_matrix(y_test,y_pred)\n",
    "sns.heatmap(cm,annot=True,fmt='d')\n",
    "plt.xlabel('Predicted')\n",
    "plt.ylabel('True')\n",
    "plt.title('Confusion Matrix')\n",
    "plt.show()"
   ]
  },
  {
   "cell_type": "markdown",
   "id": "1463bb7b-cd60-43dc-9553-25a4079c3c45",
   "metadata": {},
   "source": [
    "<h3>25.Train an AdaBoost Classifier with different numbers of estimators and compare accuracy"
   ]
  },
  {
   "cell_type": "code",
   "execution_count": 100,
   "id": "1c1cec1e-784d-4e94-b8ee-f41f9193c1d5",
   "metadata": {},
   "outputs": [],
   "source": [
    "from sklearn.ensemble import AdaBoostClassifier\n",
    "df=pd.read_csv(r'C:\\Users\\rajuc\\Downloads\\water_potability.csv')\n",
    "df.head()\n",
    "df=df.dropna()\n",
    "X=df.drop('Potability',axis=1)\n",
    "y=df['Potability']\n",
    "X_train,X_test,y_train,y_test=train_test_split(X,y,test_size=0.2,random_state=42)"
   ]
  },
  {
   "cell_type": "code",
   "execution_count": 102,
   "id": "2aa6b4aa-0534-437d-9b85-a5e8ef04d65d",
   "metadata": {},
   "outputs": [
    {
     "name": "stdout",
     "output_type": "stream",
     "text": [
      "Accuracy with 10 estimators: 0.711864406779661\n",
      "Accuracy with 50 estimators: 0.6440677966101694\n",
      "Accuracy with 100 estimators: 0.5423728813559322\n",
      "Accuracy with 200 estimators: 0.5423728813559322\n"
     ]
    }
   ],
   "source": [
    "estimators=[10,50,100,200]\n",
    "for estimator in estimators:\n",
    "  model=AdaBoostClassifier(n_estimators=estimator,random_state=42)\n",
    "  model.fit(X_train,y_train)\n",
    "  y_pred=model.predict(X_test)\n",
    "  accuracy=accuracy_score(y_test,y_pred)\n",
    "  print(f'Accuracy with {estimator} estimators: {accuracy}')"
   ]
  },
  {
   "cell_type": "markdown",
   "id": "54494223-9851-4c7d-b200-230ea8e3f1c8",
   "metadata": {},
   "source": [
    "<h3>26.Train a Gradient Boosting Classifier and visualize the ROC curve "
   ]
  },
  {
   "cell_type": "code",
   "execution_count": 105,
   "id": "e6001c87-15df-4517-b20b-a63e694d3e6f",
   "metadata": {},
   "outputs": [
    {
     "data": {
      "image/png": "[encoded data removed]",
      "text/plain": [
       "<Figure size 640x480 with 1 Axes>"
      ]
     },
     "metadata": {},
     "output_type": "display_data"
    }
   ],
   "source": [
    "from sklearn.metrics import roc_curve,auc\n",
    "from sklearn.ensemble import GradientBoostingClassifier\n",
    "model=GradientBoostingClassifier(n_estimators=100,random_state=42)\n",
    "model.fit(X_train,y_train)\n",
    "y_pred_prob=model.predict_proba(X_test)\n",
    "fpr,tpr,thresholds=roc_curve(y_test,y_pred_prob[:,1])\n",
    "roc_auc=auc(fpr,tpr)\n",
    "plt.plot(fpr,tpr,label=f'AUC={roc_auc:.2f}')\n",
    "plt.plot([0,1],[0,1],'k--')\n",
    "plt.xlabel('False Positive Rate')\n",
    "plt.ylabel('True Positive Rate')\n",
    "plt.title('ROC Curve')\n",
    "plt.legend()\n",
    "plt.show()"
   ]
  },
  {
   "cell_type": "markdown",
   "id": "63f400f1-9351-4add-811f-c90321e3362c",
   "metadata": {},
   "source": [
    "<h3>27.Train an XGBoost Regressor and tune the learning rate using GridSearchCV"
   ]
  },
  {
   "cell_type": "code",
   "execution_count": 109,
   "id": "23bd8415-d1dd-4404-89fe-30766b0af330",
   "metadata": {},
   "outputs": [
    {
     "name": "stdout",
     "output_type": "stream",
     "text": [
      "Fitting 5 folds for each of 4 candidates, totalling 20 fits\n",
      "Best Parameters: {'learning_rate': 0.3}\n",
      "Best Score: 0.8289546716003701\n"
     ]
    }
   ],
   "source": [
    "from sklearn.model_selection import GridSearchCV\n",
    "from xgboost import XGBClassifier\n",
    "param_grid={'learning_rate':[0.01,0.1,0.2,0.3]}\n",
    "model=XGBClassifier(n_estimators=100)\n",
    "grid_search=GridSearchCV(model,param_grid,cv=5,verbose=1)\n",
    "grid_search.fit(X_train,y_train)\n",
    "best_params=grid_search.best_params_\n",
    "best_score=grid_search.best_score_\n",
    "print('Best Parameters:',best_params)\n",
    "print('Best Score:',best_score)"
   ]
  },
  {
   "cell_type": "markdown",
   "id": "46811d98-b147-4244-a0c8-43ec62822204",
   "metadata": {},
   "source": [
    "<h3>28.Train a CatBoost Classifier on an imbalanced dataset and compare performance with class weighting"
   ]
  },
  {
   "cell_type": "code",
   "execution_count": 116,
   "id": "f6e7ec46-2b52-4e39-a53e-84e7174e4257",
   "metadata": {},
   "outputs": [
    {
     "data": {
      "text/html": [
       "<div>\n",
       "<style scoped>\n",
       "    .dataframe tbody tr th:only-of-type {\n",
       "        vertical-align: middle;\n",
       "    }\n",
       "\n",
       "    .dataframe tbody tr th {\n",
       "        vertical-align: top;\n",
       "    }\n",
       "\n",
       "    .dataframe thead th {\n",
       "        text-align: right;\n",
       "    }\n",
       "</style>\n",
       "<table border=\"1\" class=\"dataframe\">\n",
       "  <thead>\n",
       "    <tr style=\"text-align: right;\">\n",
       "      <th></th>\n",
       "      <th>RI</th>\n",
       "      <th>Na</th>\n",
       "      <th>Mg</th>\n",
       "      <th>Al</th>\n",
       "      <th>Si</th>\n",
       "      <th>K</th>\n",
       "      <th>Ca</th>\n",
       "      <th>Ba</th>\n",
       "      <th>Fe</th>\n",
       "      <th>Class</th>\n",
       "    </tr>\n",
       "  </thead>\n",
       "  <tbody>\n",
       "    <tr>\n",
       "      <th>0</th>\n",
       "      <td>151588824</td>\n",
       "      <td>1287795.00</td>\n",
       "      <td>343036.0</td>\n",
       "      <td>140066.00000</td>\n",
       "      <td>73282.00</td>\n",
       "      <td>0.68931</td>\n",
       "      <td>804468.0</td>\n",
       "      <td>0.0</td>\n",
       "      <td>0.1224</td>\n",
       "      <td>negative</td>\n",
       "    </tr>\n",
       "    <tr>\n",
       "      <th>1</th>\n",
       "      <td>15176423</td>\n",
       "      <td>129777.00</td>\n",
       "      <td>353812.0</td>\n",
       "      <td>121127.00000</td>\n",
       "      <td>73002.00</td>\n",
       "      <td>0.65205</td>\n",
       "      <td>852888.0</td>\n",
       "      <td>0.0</td>\n",
       "      <td>0.0000</td>\n",
       "      <td>negative</td>\n",
       "    </tr>\n",
       "    <tr>\n",
       "      <th>2</th>\n",
       "      <td>152212996</td>\n",
       "      <td>1420795.00</td>\n",
       "      <td>382099.0</td>\n",
       "      <td>0.46976</td>\n",
       "      <td>71.77</td>\n",
       "      <td>0.11178</td>\n",
       "      <td>95726.0</td>\n",
       "      <td>0.0</td>\n",
       "      <td>0.0000</td>\n",
       "      <td>negative</td>\n",
       "    </tr>\n",
       "    <tr>\n",
       "      <th>3</th>\n",
       "      <td>152222108</td>\n",
       "      <td>1321045.00</td>\n",
       "      <td>37716.0</td>\n",
       "      <td>0.79076</td>\n",
       "      <td>719884.00</td>\n",
       "      <td>0.13041</td>\n",
       "      <td>102452.0</td>\n",
       "      <td>0.0</td>\n",
       "      <td>0.0000</td>\n",
       "      <td>negative</td>\n",
       "    </tr>\n",
       "    <tr>\n",
       "      <th>4</th>\n",
       "      <td>151755118</td>\n",
       "      <td>13.39</td>\n",
       "      <td>365935.0</td>\n",
       "      <td>11888.00000</td>\n",
       "      <td>727892.00</td>\n",
       "      <td>0.57132</td>\n",
       "      <td>827064.0</td>\n",
       "      <td>0.0</td>\n",
       "      <td>0.0561</td>\n",
       "      <td>negative</td>\n",
       "    </tr>\n",
       "  </tbody>\n",
       "</table>\n",
       "</div>"
      ],
      "text/plain": [
       "          RI          Na        Mg            Al         Si        K  \\\n",
       "0  151588824  1287795.00  343036.0  140066.00000   73282.00  0.68931   \n",
       "1   15176423   129777.00  353812.0  121127.00000   73002.00  0.65205   \n",
       "2  152212996  1420795.00  382099.0       0.46976      71.77  0.11178   \n",
       "3  152222108  1321045.00   37716.0       0.79076  719884.00  0.13041   \n",
       "4  151755118       13.39  365935.0   11888.00000  727892.00  0.57132   \n",
       "\n",
       "         Ca   Ba      Fe      Class  \n",
       "0  804468.0  0.0  0.1224   negative  \n",
       "1  852888.0  0.0  0.0000   negative  \n",
       "2   95726.0  0.0  0.0000   negative  \n",
       "3  102452.0  0.0  0.0000   negative  \n",
       "4  827064.0  0.0  0.0561   negative  "
      ]
     },
     "execution_count": 116,
     "metadata": {},
     "output_type": "execute_result"
    }
   ],
   "source": [
    "df=pd.read_excel(r'C:\\Users\\rajuc\\Downloads\\glass_imbalanced.xlsx')\n",
    "df.head()"
   ]
  },
  {
   "cell_type": "code",
   "execution_count": 120,
   "id": "a552bed7-474d-46f8-8a1d-a3ebbc5d3380",
   "metadata": {},
   "outputs": [
    {
     "data": {
      "text/plain": [
       "Class\n",
       "negative    185\n",
       "positive     29\n",
       "Name: count, dtype: int64"
      ]
     },
     "execution_count": 120,
     "metadata": {},
     "output_type": "execute_result"
    }
   ],
   "source": [
    "df.Class.value_counts()"
   ]
  },
  {
   "cell_type": "code",
   "execution_count": 126,
   "id": "f680c419-64c0-4e61-b732-e5d404f780de",
   "metadata": {},
   "outputs": [
    {
     "name": "stdout",
     "output_type": "stream",
     "text": [
      "Accuracy score using Class_weights param:  0.9534883720930233\n"
     ]
    }
   ],
   "source": [
    "X=df.drop('Class',axis=1)\n",
    "y=df['Class']\n",
    "X_train,X_test,y_train,y_test=train_test_split(X,y,test_size=0.2,random_state=42)\n",
    "model = CatBoostClassifier(class_weights=[1, 185/29], random_state=42,verbose=0)\n",
    "model.fit(X_train,y_train)\n",
    "y_pred=model.predict(X_test)\n",
    "accuracy=accuracy_score(y_test,y_pred)\n",
    "\n",
    "print(\"Accuracy score using Class_weights param: \",accuracy) "
   ]
  },
  {
   "cell_type": "code",
   "execution_count": 128,
   "id": "675763ad-2ce4-4538-8ce7-52f6d2750746",
   "metadata": {},
   "outputs": [
    {
     "name": "stdout",
     "output_type": "stream",
     "text": [
      "Accuracy score without using Class_weights param:  0.9302325581395349\n"
     ]
    }
   ],
   "source": [
    "model = CatBoostClassifier(random_state=42,verbose=0)\n",
    "model.fit(X_train,y_train)\n",
    "y_pred=model.predict(X_test)\n",
    "accuracy=accuracy_score(y_test,y_pred)\n",
    "\n",
    "print(\"Accuracy score without using Class_weights param: \",accuracy) "
   ]
  },
  {
   "cell_type": "markdown",
   "id": "53dea144-e616-422e-9970-51ce58d34a74",
   "metadata": {},
   "source": [
    "<h3>29.Train an AdaBoost Classifier and analyze the effect of different learning rates"
   ]
  },
  {
   "cell_type": "code",
   "execution_count": 130,
   "id": "63a70010-8659-4582-b210-822f6e50ca62",
   "metadata": {},
   "outputs": [
    {
     "name": "stdout",
     "output_type": "stream",
     "text": [
      "Accuracy with learning rate 0.01: 0.875\n",
      "Accuracy with learning rate 0.1: 0.885\n",
      "Accuracy with learning rate 0.5: 0.895\n",
      "Accuracy with learning rate 1.0: 0.89\n"
     ]
    }
   ],
   "source": [
    "X,y=make_classification(n_samples=1000,n_features=8,random_state=42)\n",
    "X_train,X_test,y_train,y_test=train_test_split(X,y,test_size=0.2,random_state=42)\n",
    "learning_rates = [0.01, 0.1, 0.5, 1.0]\n",
    "\n",
    "# Train and evaluate\n",
    "for lr in learning_rates:\n",
    "    model = AdaBoostClassifier(learning_rate=lr, random_state=42)\n",
    "    model.fit(X_train, y_train)\n",
    "    y_pred = model.predict(X_test)\n",
    "    accuracy = accuracy_score(y_test, y_pred)\n",
    "    print(f'Accuracy with learning rate {lr}: {accuracy}')\n"
   ]
  },
  {
   "cell_type": "markdown",
   "id": "7c81af83-a519-484d-a672-7862fcdbb617",
   "metadata": {},
   "source": [
    "<h3>30.Train an XGBoost Classifier for multi-class classification and evaluate using log-loss."
   ]
  },
  {
   "cell_type": "code",
   "execution_count": 138,
   "id": "043c65cc-2b41-43fd-9487-b595b9f95ea7",
   "metadata": {},
   "outputs": [
    {
     "name": "stdout",
     "output_type": "stream",
     "text": [
      "Log Loss: 0.5209984866317527\n"
     ]
    }
   ],
   "source": [
    "from sklearn.metrics import log_loss\n",
    "X,y=make_classification(n_samples=1500,n_features=8,n_informative=5,n_classes=4,random_state=42)\n",
    "X_train,X_test,y_train,y_test=train_test_split(X,y,test_size=0.2,random_state=42)\n",
    "\n",
    "model=XGBClassifier(n_estimators=100,objective='multi:softmax',num_class=4)\n",
    "model.fit(X_train,y_train)\n",
    "y_pred_prob=model.predict_proba(X_test)\n",
    "log_loss=log_loss(y_test,y_pred_prob)\n",
    "print('Log Loss:',log_loss)\n"
   ]
  },
  {
   "cell_type": "code",
   "execution_count": null,
   "id": "1b65dfac-cbcc-4da4-af0b-b2390412672a",
   "metadata": {},
   "outputs": [],
   "source": []
  }
 ],
 "metadata": {
  "kernelspec": {
   "display_name": "Python [conda env:base] *",
   "language": "python",
   "name": "conda-base-py"
  },
  "language_info": {
   "codemirror_mode": {
    "name": "ipython",
    "version": 3
   },
   "file_extension": ".py",
   "mimetype": "text/x-python",
   "name": "python",
   "nbconvert_exporter": "python",
   "pygments_lexer": "ipython3",
   "version": "3.12.7"
  }
 },
 "nbformat": 4,
 "nbformat_minor": 5
}
